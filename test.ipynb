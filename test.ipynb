{
 "metadata": {
  "language_info": {
   "codemirror_mode": {
    "name": "ipython",
    "version": 3
   },
   "file_extension": ".py",
   "mimetype": "text/x-python",
   "name": "python",
   "nbconvert_exporter": "python",
   "pygments_lexer": "ipython3",
   "version": "3.8.8"
  },
  "orig_nbformat": 2,
  "kernelspec": {
   "name": "python388jvsc74a57bd0ecf5722fdaf1897a315d257d89d94520bfcaa453217d5becf09b39e73618b0de",
   "display_name": "Python 3.8.8 64-bit ('base': conda)"
  }
 },
 "nbformat": 4,
 "nbformat_minor": 2,
 "cells": [
  {
   "cell_type": "code",
   "execution_count": 12,
   "metadata": {},
   "outputs": [
    {
     "output_type": "execute_result",
     "data": {
      "text/plain": [
       "0"
      ]
     },
     "metadata": {},
     "execution_count": 12
    }
   ],
   "source": [
    "import random\n",
    "\n",
    "random.randint(0,3)"
   ]
  },
  {
   "cell_type": "code",
   "execution_count": 23,
   "metadata": {},
   "outputs": [
    {
     "output_type": "execute_result",
     "data": {
      "text/plain": [
       "2"
      ]
     },
     "metadata": {},
     "execution_count": 23
    }
   ],
   "source": [
    "dict_a={'a':1,'b':2}\n",
    "a='b'\n",
    "b=lambda a:dict_a.get(a)\n",
    "b(a)"
   ]
  },
  {
   "cell_type": "code",
   "execution_count": 24,
   "metadata": {},
   "outputs": [
    {
     "output_type": "stream",
     "name": "stdout",
     "text": [
      "23\n"
     ]
    }
   ],
   "source": [
    "def a1():\n",
    "    print(23)\n",
    "\n",
    "def a2():\n",
    "    print(32)\n",
    "\n",
    "dict_a={'a1':a1,'a2':a2}\n",
    "b=lambda a:dict_a.get(a)()\n",
    "b('a1')"
   ]
  },
  {
   "cell_type": "code",
   "execution_count": 2,
   "metadata": {},
   "outputs": [],
   "source": [
    "from PyQt5.QtCore import *\n",
    "from PyQt5.QtGui import *\n",
    "from PyQt5.QtWidgets import *\n",
    "import os"
   ]
  },
  {
   "cell_type": "code",
   "execution_count": 8,
   "metadata": {},
   "outputs": [
    {
     "output_type": "stream",
     "name": "stdout",
     "text": [
      "resources\\photo\\background1.jpg\n",
      "resources\\photo\\background2.jpg\n",
      "resources\\photo\\background3.jpg\n",
      "resources\\photo\\background4.jpg\n",
      "resources\\photo\\bomb0.png\n",
      "resources\\photo\\bomb1.png\n",
      "resources\\photo\\bomb2.png\n",
      "resources\\photo\\bomb3.png\n",
      "resources\\photo\\bomb4.png\n",
      "resources\\photo\\bomb5.png\n",
      "resources\\photo\\bul02.png\n",
      "resources\\photo\\bul02_-30.png\n",
      "resources\\photo\\bul02_-60.png\n",
      "resources\\photo\\bul02_30.png\n",
      "resources\\photo\\bul02_60.png\n",
      "resources\\photo\\en_bul01.png\n",
      "resources\\photo\\fighterGreen.png\n",
      "resources\\photo\\fighterRed.png\n",
      "resources\\photo\\fighterYellow.png\n",
      "resources\\photo\\imgHeadSheep.png\n",
      "resources\\photo\\plane.png\n",
      "resources\\photo\\planeLeft.png\n",
      "resources\\photo\\planeRedTail.png\n",
      "resources\\photo\\planeRight.png\n"
     ]
    }
   ],
   "source": [
    "for name in os.listdir(r'resources\\photo'):\n",
    "    path_png=os.path.join(r'resources\\photo',name)\n",
    "    # pixmap_url = QString(path_png)\n",
    "    image=QImage(path_png) # 定义QImage对象，读取图片\n",
    "    if(image.isNull()):\n",
    "        print(\"读取图片错误\")\n",
    "    else:\n",
    "        print(path_png)\n",
    "        image.save(path_png,\"PNG\")"
   ]
  },
  {
   "cell_type": "code",
   "execution_count": null,
   "metadata": {},
   "outputs": [],
   "source": []
  }
 ]
}